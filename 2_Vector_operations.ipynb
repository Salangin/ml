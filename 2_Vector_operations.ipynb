{
 "cells": [
  {
   "cell_type": "code",
   "execution_count": 1,
   "metadata": {
    "collapsed": true
   },
   "outputs": [],
   "source": [
    "import numpy as np"
   ]
  },
  {
   "cell_type": "code",
   "execution_count": 2,
   "metadata": {
    "collapsed": false
   },
   "outputs": [
    {
     "name": "stdout",
     "output_type": "stream",
     "text": [
      "Vector:\n",
      "[1 2 3 4]\n"
     ]
    }
   ],
   "source": [
    "a=np.array([1,2,3,4])\n",
    "print'Vector:\\n', a"
   ]
  },
  {
   "cell_type": "code",
   "execution_count": 3,
   "metadata": {
    "collapsed": false
   },
   "outputs": [
    {
     "name": "stdout",
     "output_type": "stream",
     "text": [
      "V vector:\n",
      "[ 1.  2.  3.  4.  5.]\n"
     ]
    }
   ],
   "source": [
    "b=np.array([1,2,3,4,5], dtype=float)\n",
    "print 'V vector:\\n', b"
   ]
  },
  {
   "cell_type": "code",
   "execution_count": 4,
   "metadata": {
    "collapsed": false
   },
   "outputs": [
    {
     "name": "stdout",
     "output_type": "stream",
     "text": [
      "Bool vector:\n",
      "[ True False  True]\n"
     ]
    }
   ],
   "source": [
    "c=np.array([True, False, True], dtype=bool)\n",
    "print 'Bool vector:\\n', c"
   ]
  },
  {
   "cell_type": "code",
   "execution_count": 5,
   "metadata": {
    "collapsed": false
   },
   "outputs": [
    {
     "name": "stdout",
     "output_type": "stream",
     "text": [
      "[ True False  True]\n"
     ]
    }
   ],
   "source": [
    "print c"
   ]
  },
  {
   "cell_type": "code",
   "execution_count": 6,
   "metadata": {
    "collapsed": false
   },
   "outputs": [
    {
     "name": "stdout",
     "output_type": "stream",
     "text": [
      "bool\n"
     ]
    }
   ],
   "source": [
    "print c.dtype"
   ]
  },
  {
   "cell_type": "code",
   "execution_count": 7,
   "metadata": {
    "collapsed": false
   },
   "outputs": [
    {
     "name": "stdout",
     "output_type": "stream",
     "text": [
      "Vector 10-20:\n",
      "[10 12 14 16 18]\n"
     ]
    }
   ],
   "source": [
    "d=np.arange(start=10, stop=20, step=2) #last - No\n",
    "print 'Vector 10-20:\\n', d"
   ]
  },
  {
   "cell_type": "code",
   "execution_count": 8,
   "metadata": {
    "collapsed": false
   },
   "outputs": [
    {
     "name": "stdout",
     "output_type": "stream",
     "text": [
      "V vector:\n",
      "[ 0.   0.3  0.6  0.9]\n"
     ]
    }
   ],
   "source": [
    "e=np.arange(start=0, stop=1, step=0.3, dtype=float)\n",
    "print 'V vector:\\n', e"
   ]
  },
  {
   "cell_type": "code",
   "execution_count": 9,
   "metadata": {
    "collapsed": false
   },
   "outputs": [
    {
     "name": "stdout",
     "output_type": "stream",
     "text": [
      "1\n"
     ]
    }
   ],
   "source": [
    "print c.ndim"
   ]
  },
  {
   "cell_type": "code",
   "execution_count": 11,
   "metadata": {
    "collapsed": false
   },
   "outputs": [
    {
     "name": "stdout",
     "output_type": "stream",
     "text": [
      "(5L,)\n"
     ]
    }
   ],
   "source": [
    "print d.shape"
   ]
  },
  {
   "cell_type": "code",
   "execution_count": 13,
   "metadata": {
    "collapsed": false
   },
   "outputs": [
    {
     "name": "stdout",
     "output_type": "stream",
     "text": [
      "vector a: [1 2 3]\n",
      "vector b: [6 5 4]\n",
      "digit k: 2\n"
     ]
    }
   ],
   "source": [
    "a=np.array([1,2,3])\n",
    "b=np.array([6,5,4])\n",
    "k=2\n",
    "\n",
    "print 'vector a:', a\n",
    "print 'vector b:', b\n",
    "print 'digit k:', k"
   ]
  },
  {
   "cell_type": "raw",
   "metadata": {},
   "source": []
  },
  {
   "cell_type": "code",
   "execution_count": 14,
   "metadata": {
    "collapsed": false
   },
   "outputs": [
    {
     "name": "stdout",
     "output_type": "stream",
     "text": [
      "Sum a and b:\n",
      "[7 7 7]\n"
     ]
    }
   ],
   "source": [
    "print 'Sum a and b:\\n', a+b"
   ]
  },
  {
   "cell_type": "code",
   "execution_count": 15,
   "metadata": {
    "collapsed": false
   },
   "outputs": [
    {
     "name": "stdout",
     "output_type": "stream",
     "text": [
      "razn a and b:\n",
      "[-5 -3 -1]\n"
     ]
    }
   ],
   "source": [
    "print 'razn a and b:\\n', a-b"
   ]
  },
  {
   "cell_type": "code",
   "execution_count": 16,
   "metadata": {
    "collapsed": false
   },
   "outputs": [
    {
     "name": "stdout",
     "output_type": "stream",
     "text": [
      "coord mult a and b:\n",
      "[ 6 10 12]\n"
     ]
    }
   ],
   "source": [
    "print 'coord mult a and b:\\n', a*b"
   ]
  },
  {
   "cell_type": "code",
   "execution_count": 17,
   "metadata": {
    "collapsed": false
   },
   "outputs": [
    {
     "name": "stdout",
     "output_type": "stream",
     "text": [
      "mult v to d:\n",
      "[2 4 6]\n"
     ]
    }
   ],
   "source": [
    "print 'mult v to d:\\n', a*k"
   ]
  },
  {
   "cell_type": "code",
   "execution_count": 18,
   "metadata": {
    "collapsed": true
   },
   "outputs": [],
   "source": [
    "from numpy.linalg import norm"
   ]
  },
  {
   "cell_type": "code",
   "execution_count": 21,
   "metadata": {
    "collapsed": false
   },
   "outputs": [
    {
     "name": "stdout",
     "output_type": "stream",
     "text": [
      "Vector a:\n",
      "[ 1  2 -4]\n"
     ]
    }
   ],
   "source": [
    "a=np.array([1,2,-4])\n",
    "print 'Vector a:\\n', a"
   ]
  },
  {
   "cell_type": "code",
   "execution_count": 22,
   "metadata": {
    "collapsed": false
   },
   "outputs": [
    {
     "name": "stdout",
     "output_type": "stream",
     "text": [
      "l1 norm of a:\n",
      "7.0\n"
     ]
    }
   ],
   "source": [
    "print 'l1 norm of a:\\n', norm(a, ord=1)"
   ]
  },
  {
   "cell_type": "code",
   "execution_count": 24,
   "metadata": {
    "collapsed": false
   },
   "outputs": [
    {
     "name": "stdout",
     "output_type": "stream",
     "text": [
      "L2 norm of a:\n",
      "33.0756708171\n"
     ]
    }
   ],
   "source": [
    "a=np.array([1,2,-33])\n",
    "print 'L2 norm of a:\\n', norm(a, ord=2)"
   ]
  },
  {
   "cell_type": "code",
   "execution_count": 27,
   "metadata": {
    "collapsed": false
   },
   "outputs": [
    {
     "name": "stdout",
     "output_type": "stream",
     "text": [
      "Vector a: [ 1  2 -3]\n",
      "Vector b: [-4  3  8]\n"
     ]
    }
   ],
   "source": [
    "a=np.array([1,2,-3])\n",
    "b=np.array([-4,3,8])\n",
    "print 'Vector a:', a\n",
    "print 'Vector b:', b"
   ]
  },
  {
   "cell_type": "code",
   "execution_count": 29,
   "metadata": {
    "collapsed": false
   },
   "outputs": [
    {
     "name": "stdout",
     "output_type": "stream",
     "text": [
      "L1 Dist a and b:\n",
      "17.0\n"
     ]
    }
   ],
   "source": [
    "print 'L1 Dist a and b:\\n', norm(a-b, ord=1)"
   ]
  },
  {
   "cell_type": "code",
   "execution_count": 30,
   "metadata": {
    "collapsed": false
   },
   "outputs": [
    {
     "name": "stdout",
     "output_type": "stream",
     "text": [
      "L2 Dist a and b:\n",
      "12.124355653\n"
     ]
    }
   ],
   "source": [
    "print 'L2 Dist a and b:\\n', norm(a-b, ord=2)"
   ]
  },
  {
   "cell_type": "code",
   "execution_count": 31,
   "metadata": {
    "collapsed": true
   },
   "outputs": [],
   "source": [
    "from scipy.spatial.distance import cdist"
   ]
  },
  {
   "cell_type": "code",
   "execution_count": 35,
   "metadata": {
    "collapsed": false
   },
   "outputs": [
    {
     "name": "stdout",
     "output_type": "stream",
     "text": [
      "Vector a: [  6   3 -15]\n",
      "razm a: (3L,)\n",
      "Vector b: [-1  0  7]\n",
      "razm b: (3L,)\n"
     ]
    }
   ],
   "source": [
    "a=np.array([6,3,-15])\n",
    "b=np.array([-1,0,7])\n",
    "print 'Vector a:', a\n",
    "print 'razm a:', a.shape\n",
    "print 'Vector b:', b\n",
    "print 'razm b:', b.shape"
   ]
  },
  {
   "cell_type": "code",
   "execution_count": 36,
   "metadata": {
    "collapsed": false
   },
   "outputs": [
    {
     "name": "stdout",
     "output_type": "stream",
     "text": [
      "Vector-row a: [[  6   3 -15]]\n",
      "Its razm: (1L, 3L)\n",
      "Vecor-row b: [[-1  0  7]]\n",
      "Its razm: (1L, 3L)\n"
     ]
    }
   ],
   "source": [
    "a=a.reshape((1,3))\n",
    "b=b.reshape((1,3))\n",
    "print 'Vector-row a:', a\n",
    "print 'Its razm:', a.shape\n",
    "print 'Vecor-row b:', b\n",
    "print 'Its razm:', b.shape"
   ]
  },
  {
   "cell_type": "code",
   "execution_count": 37,
   "metadata": {
    "collapsed": false
   },
   "outputs": [
    {
     "name": "stdout",
     "output_type": "stream",
     "text": [
      "Man dist a and b: [[ 32.]]\n"
     ]
    }
   ],
   "source": [
    "print 'Man dist a and b:', cdist(a,b,metric='cityblock')"
   ]
  },
  {
   "cell_type": "code",
   "execution_count": 40,
   "metadata": {
    "collapsed": false
   },
   "outputs": [
    {
     "name": "stdout",
     "output_type": "stream",
     "text": [
      "Vector d: [  3   0   8   9 -10]\n",
      "Dim d: (5L,)\n"
     ]
    }
   ],
   "source": [
    "d=np.array([3,0,8,9,-10])\n",
    "print 'Vector d:', d\n",
    "print 'Dim d:', d.shape"
   ]
  },
  {
   "cell_type": "raw",
   "metadata": {},
   "source": []
  },
  {
   "cell_type": "code",
   "execution_count": 49,
   "metadata": {
    "collapsed": false
   },
   "outputs": [
    {
     "name": "stdout",
     "output_type": "stream",
     "text": [
      " vector d with newaxis - row:\n",
      "[[  3   0   8   9 -10]]\n",
      "dim: (1L, 5L)\n",
      "vector d witn newaxis - column:\n",
      "[[  3]\n",
      " [  0]\n",
      " [  8]\n",
      " [  9]\n",
      " [-10]]\n",
      "dim: (5L, 1L)\n"
     ]
    }
   ],
   "source": [
    "print 'vector d with newaxis - row:\\n', d[np.newaxis, :]\n",
    "print 'dim:', d[np.newaxis, :].shape\n",
    "print 'vector d witn newaxis - column:\\n', d[:, np.newaxis]\n",
    "print 'dim:', d[:, np.newaxis].shape"
   ]
  },
  {
   "cell_type": "code",
   "execution_count": 51,
   "metadata": {
    "collapsed": false
   },
   "outputs": [
    {
     "name": "stdout",
     "output_type": "stream",
     "text": [
      "Euclid dist between a and b: [[ 62.46599075]]\n"
     ]
    }
   ],
   "source": [
    "a=np.array([6,3,-55])\n",
    "b=np.array([-1,0,7])\n",
    "print 'Euclid dist between a and b:', cdist(a[np.newaxis, :], b[np.newaxis, :], metric='euclidean')"
   ]
  },
  {
   "cell_type": "code",
   "execution_count": 52,
   "metadata": {
    "collapsed": false
   },
   "outputs": [
    {
     "name": "stdout",
     "output_type": "stream",
     "text": [
      "[ 0  5 -1]\n",
      "[-4  9  3]\n"
     ]
    }
   ],
   "source": [
    "a=np.array([0,5,-1])\n",
    "b=np.array([-4,9,3])\n",
    "print a\n",
    "print b"
   ]
  },
  {
   "cell_type": "code",
   "execution_count": 53,
   "metadata": {
    "collapsed": false
   },
   "outputs": [
    {
     "name": "stdout",
     "output_type": "stream",
     "text": [
      "Scal mult: 42\n"
     ]
    }
   ],
   "source": [
    "print 'Scal mult:', np.dot(a,b)"
   ]
  },
  {
   "cell_type": "code",
   "execution_count": 54,
   "metadata": {
    "collapsed": false
   },
   "outputs": [
    {
     "name": "stdout",
     "output_type": "stream",
     "text": [
      "Scal mult by method: 42\n"
     ]
    }
   ],
   "source": [
    "print'Scal mult by method:', a.dot(b)"
   ]
  },
  {
   "cell_type": "code",
   "execution_count": 58,
   "metadata": {
    "collapsed": false
   },
   "outputs": [
    {
     "name": "stdout",
     "output_type": "stream",
     "text": [
      "Cos: 0.800036283647\n",
      "angle: 0.643440633609\n"
     ]
    }
   ],
   "source": [
    "cos_angle=np.dot(a, b)/norm(a)/norm(b)\n",
    "print 'Cos:', cos_angle\n",
    "print 'angle:', np.arccos(cos_angle)"
   ]
  },
  {
   "cell_type": "code",
   "execution_count": null,
   "metadata": {
    "collapsed": true
   },
   "outputs": [],
   "source": []
  }
 ],
 "metadata": {
  "kernelspec": {
   "display_name": "Python 2",
   "language": "python",
   "name": "python2"
  },
  "language_info": {
   "codemirror_mode": {
    "name": "ipython",
    "version": 2
   },
   "file_extension": ".py",
   "mimetype": "text/x-python",
   "name": "python",
   "nbconvert_exporter": "python",
   "pygments_lexer": "ipython2",
   "version": "2.7.13"
  }
 },
 "nbformat": 4,
 "nbformat_minor": 2
}
